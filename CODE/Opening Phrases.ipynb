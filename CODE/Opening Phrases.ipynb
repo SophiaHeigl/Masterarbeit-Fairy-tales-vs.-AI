{
 "cells": [
  {
   "cell_type": "markdown",
   "id": "93d26203-a4ff-4b90-bb29-80a99a6546f9",
   "metadata": {},
   "source": [
    "Libraries"
   ]
  },
  {
   "cell_type": "code",
   "execution_count": 39,
   "id": "4754bf99-34dc-404e-93f6-0c2c75c1bf0e",
   "metadata": {},
   "outputs": [],
   "source": [
    "import os, re, glob\n",
    "import pandas as pd\n",
    "from collections import Counter"
   ]
  },
  {
   "cell_type": "markdown",
   "id": "1a4c46bd-f89f-4d8c-a0ae-dceeb8d4caf8",
   "metadata": {},
   "source": [
    "Corpora"
   ]
  },
  {
   "cell_type": "code",
   "execution_count": 40,
   "id": "a7db20ec-af4d-4a7f-80d2-4fef37ab8358",
   "metadata": {},
   "outputs": [],
   "source": [
    "CORPORA = {\n",
    "    \"Folk Fairy Tales\": r\"C:\\Users\\Sophia\\Downloads\\MA\\CORPORA\\German FFT\",\n",
    "    \"GPT-5\":            r\"C:\\Users\\Sophia\\Downloads\\MA\\CORPORA\\GPT-5\",\n",
    "    \"GPT-4o\":           r\"C:\\Users\\Sophia\\Downloads\\MA\\CORPORA\\GPT-4o\",\n",
    "}\n",
    "\n",
    "FILE_PATTERN = \"**/*.txt\"\n",
    "TOP_K = 10\n",
    "WORD_RE = re.compile(r\"[A-Za-zÄÖÜäöüß\\-]+\", flags=re.UNICODE)\n",
    "START_PHRASES = [\"es war einmal\", \"es waren einmal\"]"
   ]
  },
  {
   "cell_type": "code",
   "execution_count": 41,
   "id": "b345a1be-394e-491f-9497-07a3f8a40821",
   "metadata": {},
   "outputs": [],
   "source": [
    "def norm(s: str) -> str:\n",
    "    s = s.replace(\"\\ufeff\", \" \").replace(\"\\xa0\", \" \").replace(\"\\t\", \" \")\n",
    "    return s.lower()\n",
    "\n",
    "results = {}\n",
    "totals  = {}\n",
    "\n",
    "for corpus_name, corpus_dir in CORPORA.items():\n",
    "    cnt = Counter()\n",
    "    for fp in glob.glob(os.path.join(corpus_dir, FILE_PATTERN), recursive=True):\n",
    "        txt = open(fp, \"r\", encoding=\"utf-8\").read()\n",
    "        s = norm(txt).lstrip('\"\\':-–— \\n\\r')\n",
    "        first = re.split(r\"[.!?]\\s\", s, maxsplit=1)[0].strip()\n",
    "        toks = WORD_RE.findall(first)\n",
    "        if len(toks) >= 3:\n",
    "            tri = tuple(toks[:3])\n",
    "            cnt[tri] += 1\n",
    "    results[corpus_name] = cnt\n",
    "    totals[corpus_name]  = sum(cnt.values())"
   ]
  },
  {
   "cell_type": "markdown",
   "id": "88d497d8-e8e5-4bff-8478-8531fe424db4",
   "metadata": {},
   "source": [
    "Table"
   ]
  },
  {
   "cell_type": "code",
   "execution_count": 42,
   "id": "ed4200dd-f72d-4c07-a763-113d58bca3a0",
   "metadata": {},
   "outputs": [
    {
     "name": "stdout",
     "output_type": "stream",
     "text": [
      "          trigram  Folk Fairy Tales (n)  Folk Fairy Tales (%)  GPT-5 (n)  GPT-5 (%)  GPT-4o (n)  GPT-4o (%)\n",
      "    es war einmal                    54                  44.6         43       43.0          53        53.0\n",
      "  es waren einmal                     5                   4.1         57       57.0          47        47.0\n",
      "       es war ein                     6                   5.0          0        0.0           0         0.0\n",
      "  es lebte einmal                     3                   2.5          0        0.0           0         0.0\n",
      " vor alten zeiten                     2                   1.7          0        0.0           0         0.0\n",
      "      es war eine                     2                   1.7          0        0.0           0         0.0\n",
      "     es hatte ein                     2                   1.7          0        0.0           0         0.0\n",
      "       es war vor                     1                   0.8          0        0.0           0         0.0\n",
      "   in der schweiz                     1                   0.8          0        0.0           0         0.0\n",
      "ein schneider und                     1                   0.8          0        0.0           0         0.0\n",
      "\\saved:\n",
      " - first_sentence_trigrams_all_corpora.csv\n",
      " - first_sentence_trigrams_Folk_Fairy_Tales.csv\n",
      " - first_sentence_trigrams_GPT-5.csv\n",
      " - first_sentence_trigrams_GPT-4o.csv\n"
     ]
    }
   ],
   "source": [
    "for corpus_name, cnt in results.items():\n",
    "    rows = []\n",
    "    total = max(1, totals[corpus_name])\n",
    "    for (tri, c) in cnt.most_common(TOP_K):\n",
    "        rows.append({\"trigram\": \" \".join(tri), \"count\": c, \"share_%\": round(c/total*100, 1)})\n",
    "    pd.DataFrame(rows).to_csv(\n",
    "        f\"first_sentence_trigrams_{corpus_name.replace(' ', '_')}.csv\",\n",
    "        index=False, encoding=\"utf-8\"\n",
    "    )\n",
    "\n",
    "\n",
    "all_tris = set().union(*[set(c.keys()) for c in results.values()])\n",
    "rows = []\n",
    "for tri in all_tris:\n",
    "    row = {\"trigram\": \" \".join(tri)}\n",
    "    total_sum = 0\n",
    "    for cname in CORPORA:\n",
    "        c = results[cname][tri]\n",
    "        row[f\"{cname} (n)\"] = c\n",
    "        row[f\"{cname} (%)\"] = round(c / max(1, totals[cname]) * 100, 1) if totals[cname] else 0.0\n",
    "        total_sum += c\n",
    "    row[\"_sum\"] = total_sum\n",
    "    rows.append(row)\n",
    "\n",
    "combo = pd.DataFrame(rows).sort_values(\"_sum\", ascending=False).drop(columns=[\"_sum\"])\n",
    "combo.to_csv(\"first_sentence_trigrams_all_corpora.csv\", index=False, encoding=\"utf-8\")\n",
    "\n",
    "print(combo.head(TOP_K).to_string(index=False))\n",
    "print(\"\\saved:\")\n",
    "print(\" - first_sentence_trigrams_all_corpora.csv\")\n",
    "for cname in CORPORA:\n",
    "    print(f\" - first_sentence_trigrams_{cname.replace(' ', '_')}.csv\")"
   ]
  },
  {
   "cell_type": "code",
   "execution_count": 43,
   "id": "b7a75bd9-3e9e-4c12-9616-e3b7b24e8a2b",
   "metadata": {},
   "outputs": [
    {
     "name": "stdout",
     "output_type": "stream",
     "text": [
      "\n",
      "=== Top-10 nächste Trigramme nach „es war einmal“ ===\n",
      "           next_3  GPT-5 (n)  GPT-5 (%)  GPT-4o (n)  GPT-4o (%)\n",
      " ein alter müller         12       27.9          22        41.5\n",
      "   ein müller der         10       23.3          17        32.1\n",
      " ein armer müller          2        4.7           4         7.5\n",
      "    ein könig der          3        7.0           0         0.0\n",
      "    ein bauer der          3        7.0           0         0.0\n",
      "   ein altes weib          0        0.0           2         3.8\n",
      "ein altes ehepaar          1        2.3           1         1.9\n",
      " ein armer köhler          1        2.3           1         1.9\n",
      "  ein armer hirte          0        0.0           2         3.8\n",
      "  ein alter bauer          0        0.0           2         3.8\n",
      "(gespeichert: TOP10_next3_after_es_war_einmal_GPT5_vs_GPT4o.csv)\n",
      "\n",
      "=== Top-10 nächste Trigramme nach „es waren einmal“ ===\n",
      "             next_3  GPT-5 (n)  GPT-5 (%)  GPT-4o (n)  GPT-4o (%)\n",
      "     ein müller und         13       22.8          22        46.8\n",
      "   ein alter müller          9       15.8          22        46.8\n",
      "drei schwestern die          6       10.5           1         2.1\n",
      "   ein armer müller          6       10.5           0         0.0\n",
      "zwei schwestern die          6       10.5           0         0.0\n",
      "      ein könig und          3        5.3           1         2.1\n",
      "       ein mann und          3        5.3           0         0.0\n",
      "   in einem stillen          2        3.5           0         0.0\n",
      "    in einem fernen          2        3.5           0         0.0\n",
      "    in einem tiefen          2        3.5           0         0.0\n",
      "(gespeichert: TOP10_next3_after_es_waren_einmal_GPT5_vs_GPT4o.csv)\n",
      "\n",
      "Fertig. Zwei CSVs (je Phrase) wurden gespeichert.\n"
     ]
    }
   ],
   "source": [
    "def first_sentence(s: str) -> str:\n",
    "    s = norm(s).lstrip('\"\\':-–— \\n\\r')\n",
    "    return re.split(r\"[.!?]\\s\", s, maxsplit=1)[0].strip()\n",
    "\n",
    "def toks(s: str):\n",
    "    return WORD_RE.findall(s)\n",
    "\n",
    "def safe(name: str) -> str:\n",
    "    return re.sub(r\"[^A-Za-z0-9\\-]+\", \"_\", name).strip(\"_\")\n",
    "\n",
    "START_TOKS = {p: tuple(toks(p)) for p in START_PHRASES}\n",
    "\n",
    "next3 = {c: {p: Counter() for p in START_PHRASES} for c in CORPORA}\n",
    "matches_per_phrase = {c: {p: 0 for p in START_PHRASES} for c in CORPORA}\n",
    "\n",
    "for corpus_name, corpus_dir in CORPORA.items():\n",
    "    for fp in glob.glob(os.path.join(corpus_dir, FILE_PATTERN), recursive=True):\n",
    "        text = open(fp, \"r\", encoding=\"utf-8\").read()\n",
    "        sent = first_sentence(text)\n",
    "        tt = toks(sent)\n",
    "        if not tt:\n",
    "            continue\n",
    "        for phrase, p_tok in START_TOKS.items():\n",
    "            k = len(p_tok)\n",
    "            if len(tt) >= k and tuple(tt[:k]) == p_tok:\n",
    "                matches_per_phrase[corpus_name][phrase] += 1\n",
    "                if len(tt) >= k+3:\n",
    "                    tri = \" \".join(tt[k:k+3])\n",
    "                    next3[corpus_name][phrase][tri] += 1\n",
    "\n",
    "# 2 tables\n",
    "for phrase in START_PHRASES:\n",
    "    hits_5  = matches_per_phrase[\"GPT-5\"][phrase]\n",
    "    hits_4o = matches_per_phrase[\"GPT-4o\"][phrase]\n",
    "    tris = set(next3[\"GPT-5\"][phrase].keys()) | set(next3[\"GPT-4o\"][phrase].keys())\n",
    "    rows = []\n",
    "    for tri in tris:\n",
    "        n5  = next3[\"GPT-5\"][phrase][tri]\n",
    "        n4o = next3[\"GPT-4o\"][phrase][tri]\n",
    "        rows.append({\n",
    "            \"next_3\": tri,\n",
    "            \"GPT-5 (n)\": n5,\n",
    "            \"GPT-5 (%)\": 0.0 if hits_5==0 else round(n5 / hits_5 * 100, 1),\n",
    "            \"GPT-4o (n)\": n4o,\n",
    "            \"GPT-4o (%)\": 0.0 if hits_4o==0 else round(n4o / hits_4o * 100, 1),\n",
    "            \"_sum\": n5 + n4o\n",
    "        })\n",
    "\n",
    "    table = (pd.DataFrame(rows)\n",
    "               .sort_values(\"_sum\", ascending=False)\n",
    "               .drop(columns=[\"_sum\"])\n",
    "               .head(TOP_K))\n",
    "\n",
    "    print(f\"\\n=== Top-{TOP_K} nächste Trigramme nach „{phrase}“ ===\")\n",
    "    print(table.to_string(index=False))\n",
    "\n",
    "    out = f\"TOP10_next3_after_{safe(phrase)}_GPT5_vs_GPT4o.csv\"\n",
    "    table.to_csv(out, index=False, encoding=\"utf-8\")\n",
    "    print(f\"(gespeichert: {out})\")\n",
    "\n",
    "print(\"\\nFertig. Zwei CSVs (je Phrase) wurden gespeichert.\")"
   ]
  },
  {
   "cell_type": "code",
   "execution_count": null,
   "id": "d17ff143-dba7-403f-a04d-c92dbcfe7ea3",
   "metadata": {},
   "outputs": [],
   "source": []
  }
 ],
 "metadata": {
  "kernelspec": {
   "display_name": "Python 3 (ipykernel)",
   "language": "python",
   "name": "python3"
  },
  "language_info": {
   "codemirror_mode": {
    "name": "ipython",
    "version": 3
   },
   "file_extension": ".py",
   "mimetype": "text/x-python",
   "name": "python",
   "nbconvert_exporter": "python",
   "pygments_lexer": "ipython3",
   "version": "3.9.16"
  }
 },
 "nbformat": 4,
 "nbformat_minor": 5
}
